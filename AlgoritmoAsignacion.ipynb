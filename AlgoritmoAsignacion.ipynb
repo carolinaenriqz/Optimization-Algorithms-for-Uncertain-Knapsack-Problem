{
 "cells": [
  {
   "cell_type": "markdown",
   "id": "cbe45a9a",
   "metadata": {},
   "source": [
    "# Configuración Inicial"
   ]
  },
  {
   "cell_type": "markdown",
   "id": "0533a090",
   "metadata": {},
   "source": [
    "## Imports y librerías"
   ]
  },
  {
   "cell_type": "code",
   "execution_count": null,
   "id": "3d67d8ce",
   "metadata": {},
   "outputs": [],
   "source": [
    "# ==== Core ====\n",
    "from __future__ import annotations\n",
    "import os, json, math, itertools, datetime as dt\n",
    "from dataclasses import dataclass, asdict\n",
    "from typing import List, Dict, Tuple, Optional, Iterable\n",
    "import numpy as np\n",
    "import pandas as pd\n",
    "\n",
    "# ==== Logging ====\n",
    "import logging\n",
    "logging.basicConfig(level=logging.INFO, format=\"%(asctime)s | %(levelname)s | %(message)s\")\n",
    "L = logging.getLogger(\"retail-media\")\n",
    "\n",
    "# ==== BigQuery (opcional, si vas a usarlo) ====\n",
    "try:\n",
    "    from google.cloud import bigquery\n",
    "except Exception:\n",
    "    bigquery = None\n"
   ]
  },
  {
   "cell_type": "markdown",
   "id": "2d8b2449",
   "metadata": {},
   "source": [
    "## Data Classes"
   ]
  },
  {
   "cell_type": "code",
   "execution_count": null,
   "id": "fc5019fb",
   "metadata": {},
   "outputs": [],
   "source": [
    "@dataclass\n",
    "class BQConfig:\n",
    "    project_id: str\n",
    "    dataset: str\n",
    "    location: str = \"EU\"\n",
    "    credentials_json_path: Optional[str] = None  # si usas credenciales vía fichero\n",
    "\n",
    "# EJEMPLO: bq = BQConfig(project_id=\"mi-proyecto\", dataset=\"retail\", credentials_json_path=\"gcp.json\")\n",
    "# df = load_bq_sql(bq, SQL_TRAFICO.format(project=bq.project_id, dataset=bq.dataset, lookback_weeks=12))\n",
    "\n",
    "\n",
    "\n",
    "@dataclass\n",
    "class PathsConfig: # Datos locales\n",
    "    data_dir: str = \"./data\"\n",
    "    csv_trafico: Optional[str] = \"./data/trafico.csv\"\n",
    "    csv_tickets: Optional[str] = None\n",
    "    csv_lineas: Optional[str] = None\n",
    "    csv_tiendas: Optional[str] = None\n",
    "    csv_zonas: Optional[str] = None\n",
    "    csv_promos: Optional[str] = None\n",
    "    csv_festivos: Optional[str] = None\n",
    "    export_dir: str = \"./export\"\n",
    "\n",
    "\n",
    "\n",
    "\n",
    "paths = PathsConfig(\n",
    "  csv_trafico=\"./data/trafico.csv\",\n",
    "  csv_tickets=\"./data/tickets.csv\",\n",
    "  csv_lineas=\"./data/lineas.csv\",\n",
    "  csv_tiendas=\"./data/tiendas.csv\",\n",
    "  csv_zonas=\"./data/zonas.csv\",\n",
    "  csv_promos=\"./data/promos.csv\",\n",
    "  csv_festivos=\"./data/festivos.csv\",\n",
    "  export_dir=\"./export\"\n",
    ")\n",
    "ensure_dirs(paths.data_dir, paths.export_dir)\n",
    "\n",
    "\n",
    "\n",
    "\n",
    "\n",
    "@dataclass\n",
    "class RulesConfig:\n",
    "    lookback_weeks: int = 12\n",
    "    include_sundays: bool = True\n",
    "    valid_days: Tuple[str,...] = (\"Mon\",\"Tue\",\"Wed\",\"Thu\",\"Fri\",\"Sat\",\"Sun\")\n",
    "    min_footfall: int = 50\n",
    "    min_tickets_cat: int = 25\n",
    "    min_lift: float = 1.05\n",
    "    max_visibility_rank: int = 10\n",
    "    crosssell_window_days: int = 0  # 0 = mismo ticket; >0 = ventana temporal\n",
    "    topN: int = 5\n",
    "    seasonality_split: bool = False\n",
    "\n",
    "@dataclass\n",
    "class WeightsConfig:\n",
    "    awareness: Dict[str, float] = None\n",
    "    conversion: Dict[str, float] = None\n",
    "    crosssell: Dict[str, float] = None\n",
    "    premium: Dict[str, float] = None\n",
    "    penalties: Dict[str, float] = None"
   ]
  },
  {
   "cell_type": "markdown",
   "id": "79b35801",
   "metadata": {},
   "source": [
    "## Parámetros globales"
   ]
  },
  {
   "cell_type": "code",
   "execution_count": null,
   "id": "324f8def",
   "metadata": {},
   "outputs": [],
   "source": [
    "\n",
    "\n",
    "# ===== Ejemplos listos para editar =====\n",
    "\n",
    "SLOT_DEFS: Dict[str, Tuple[int,int]] = {  # nombre -> (hora_ini, hora_fin)\n",
    "    \"08-11\": (8,11), \"11-14\": (11,14), \"14-17\": (14,17), \"17-20\": (17,20), \"20-22\": (20,22),\n",
    "}\n",
    "\n",
    "ZONE_SYNONYMS: Dict[str,str] = {  # normalización de zonas intratienda\n",
    "    \"checkout\":\"checkout\", \"cola\":\"checkout\", \"endcap\":\"endcap\", \"cabecera\":\"endcap\",\n",
    "    \"pasillo\":\"aisle\", \"góndola\":\"aisle\", \"entrada\":\"entrance\"\n",
    "}\n",
    "\n",
    "OBJECTIVE_TO_SIGNALS: Dict[str, List[str]] = {\n",
    "    \"awareness\": [\"footfall_slot\",\"visibility_rank\",\"reach_unique_slot\"],\n",
    "    \"conversion\": [\"tickets_cat_slot\",\"net_sales_cat_slot\",\"conv_rate_slot\"],\n",
    "    \"cross-sell\": [\"lift_cross_sell\",\"confidence_cross_sell\",\"volume_anchor_cat_slot\"],\n",
    "    \"premium\": [\"aov_slot\",\"premium_share_slot\",\"zone_premium_flag\"]\n",
    "}\n",
    "\n",
    "WEIGHTS_DEFAULT = WeightsConfig(\n",
    "    awareness={\"footfall_slot\":0.5, \"visibility_rank\":0.3, \"reach_unique_slot\":0.2},\n",
    "    conversion={\"tickets_cat_slot\":0.45, \"net_sales_cat_slot\":0.35, \"conv_rate_slot\":0.2},\n",
    "    crosssell={\"lift_cross_sell\":0.5, \"confidence_cross_sell\":0.3, \"volume_anchor_cat_slot\":0.2},\n",
    "    premium={\"aov_slot\":0.6, \"premium_share_slot\":0.3, \"zone_premium_flag\":0.1},\n",
    "    penalties={\"stockouts\":0.3, \"promo_saturation\":0.4, \"low_coverage\":0.3}\n",
    ")\n",
    "\n",
    "# Plantilla de brief (ejemplo)\n",
    "EXAMPLE_BRIEFS: List[Dict] = [\n",
    "    {\n",
    "        \"brand\":\"ACME\",\n",
    "        \"category_focus\":[\"coffee\"],\n",
    "        \"objective\":\"cross-sell\",\n",
    "        \"target_co_categories\":[\"milk\",\"cookies\"],\n",
    "        \"budget_level\":\"medium\",\n",
    "        \"preferred_days\":[\"Fri\",\"Sat\"],\n",
    "        \"excluded_days\":[\"Sun\"],\n",
    "        \"preferred_slots\":[\"17-20\",\"20-22\"],\n",
    "        \"excluded_store_types\":[\"convenience\"],\n",
    "        \"geos_priority\":[\"Madrid\",\"Bilbao\"],\n",
    "        \"must_have_instore_locations\":[\"checkout\"],\n",
    "        \"notes\":\"evitar colas muy saturadas\"\n",
    "    }\n",
    "]\n"
   ]
  },
  {
   "cell_type": "markdown",
   "id": "57aaaf4a",
   "metadata": {},
   "source": [
    "### Slots Horarios"
   ]
  },
  {
   "cell_type": "markdown",
   "id": "d07583d3",
   "metadata": {},
   "source": [
    "### Zonas Intratienda"
   ]
  },
  {
   "cell_type": "markdown",
   "id": "14b503d3",
   "metadata": {},
   "source": [
    "# Carga de Datos"
   ]
  },
  {
   "cell_type": "markdown",
   "id": "106eeecc",
   "metadata": {},
   "source": [
    "## BigQuery (o Stratio)"
   ]
  },
  {
   "cell_type": "markdown",
   "id": "465922b3",
   "metadata": {},
   "source": [
    "# Preprocesamiento"
   ]
  },
  {
   "cell_type": "markdown",
   "id": "d06168ea",
   "metadata": {},
   "source": [
    "## Normalización Temporal"
   ]
  },
  {
   "cell_type": "markdown",
   "id": "217dfcf6",
   "metadata": {},
   "source": [
    "## Join con metadatos de tienda"
   ]
  },
  {
   "cell_type": "markdown",
   "id": "2c8c029a",
   "metadata": {},
   "source": [
    "## Join con zonas"
   ]
  },
  {
   "cell_type": "markdown",
   "id": "d133f2ea",
   "metadata": {},
   "source": [
    "# Cálculo de métricas"
   ]
  },
  {
   "cell_type": "markdown",
   "id": "bfd88cc5",
   "metadata": {},
   "source": [
    "## Footfall"
   ]
  },
  {
   "cell_type": "markdown",
   "id": "76bfa537",
   "metadata": {},
   "source": [
    "## Tickets Por Categoría"
   ]
  },
  {
   "cell_type": "markdown",
   "id": "de7b41c4",
   "metadata": {},
   "source": [
    "## Cross-sell"
   ]
  },
  {
   "cell_type": "markdown",
   "id": "8b5bcaf3",
   "metadata": {},
   "source": [
    "## Saturación de Promos"
   ]
  },
  {
   "cell_type": "markdown",
   "id": "b23c0d2d",
   "metadata": {},
   "source": [
    "# Generación de Candidatos"
   ]
  },
  {
   "cell_type": "markdown",
   "id": "28b84b53",
   "metadata": {},
   "source": [
    "## Grid combinaciones"
   ]
  },
  {
   "cell_type": "markdown",
   "id": "1403f176",
   "metadata": {},
   "source": [
    "# Scoring"
   ]
  },
  {
   "cell_type": "markdown",
   "id": "d4635166",
   "metadata": {},
   "source": [
    "## Funciones de scoring"
   ]
  },
  {
   "cell_type": "markdown",
   "id": "ca3dc23a",
   "metadata": {},
   "source": [
    "## Penalizaciones"
   ]
  },
  {
   "cell_type": "markdown",
   "id": "43018965",
   "metadata": {},
   "source": [
    "# Ranking y resultados"
   ]
  },
  {
   "cell_type": "markdown",
   "id": "81649ddb",
   "metadata": {},
   "source": [
    "## Filtros por brief"
   ]
  },
  {
   "cell_type": "markdown",
   "id": "82751187",
   "metadata": {},
   "source": [
    "## Ranking por marca"
   ]
  },
  {
   "cell_type": "markdown",
   "id": "8e852deb",
   "metadata": {},
   "source": [
    "## Exportación"
   ]
  },
  {
   "cell_type": "markdown",
   "id": "56592228",
   "metadata": {},
   "source": [
    "# Validación"
   ]
  },
  {
   "cell_type": "markdown",
   "id": "a38065e8",
   "metadata": {},
   "source": [
    "## Holdout temporal"
   ]
  },
  {
   "cell_type": "markdown",
   "id": "2f561584",
   "metadata": {},
   "source": []
  },
  {
   "cell_type": "code",
   "execution_count": null,
   "id": "4d0cff82",
   "metadata": {},
   "outputs": [],
   "source": [
    "# Ge"
   ]
  },
  {
   "cell_type": "code",
   "execution_count": 1,
   "id": "6fb9c9bf",
   "metadata": {},
   "outputs": [],
   "source": [
    "# Generación de candidatos"
   ]
  },
  {
   "cell_type": "code",
   "execution_count": null,
   "id": "d9d55a3c",
   "metadata": {},
   "outputs": [],
   "source": [
    "### "
   ]
  },
  {
   "cell_type": "code",
   "execution_count": null,
   "id": "2cc8ec74",
   "metadata": {},
   "outputs": [],
   "source": [
    "import pandas as pd\n",
    "import datetime as dt\n",
    "\n",
    "\n",
    "\n",
    "\n",
    "# METER LOS DÍAS PROMO\n",
    "\n",
    "# -------------------------------- Importación Datos --------------------------------\n",
    "\n",
    "df_transaccional = pd.read_csv(\"TransaccionalDefinitivo.csv\", delimiter = \",\", header = 0) # para calcular la volumetria de tickets y \n",
    "df_articulos = pd.read_csv(\"Articulos.csv\", delimiter = \",\", header = 0) # Maestra de articulos con su categoría\n",
    "\n",
    "\n",
    "def sacar_ubicacion_intratienda(articulo_id):\n",
    "    # NECESITARÍA los planos. \n",
    "    return \n",
    "\n",
    "def ubicacion_cross_sell(articulo_id):\n",
    "    return\n",
    "\n",
    "def habitual(df, col, segmentacion, segmento):\n",
    "    if isinstance(col, str):\n",
    "        col = [col]\n",
    "    df_seg = df[df[segmentacion] == segmento]\n",
    "    agrupado = df_seg.groupby([segmentacion] + col)[\"Ticket Id\"].nunique().reset_index(name=\"NumTickets\")\n",
    "    q75 = agrupado[\"NumTickets\"].quantile(0.75)\n",
    "    top_25 = agrupado[agrupado[\"NumTickets\"] >= q75]\n",
    "    if \"TipoTienda\" in col:   # Si es TipoTienda, cojo 2 tiendas siempre. \n",
    "        top_tiendas = df_seg.groupby(\"TipoTienda\")[\"Ticket Id\"].nunique().nlargest(2).index.tolist()\n",
    "        top_25 = top_25[top_25[\"TipoTienda\"].isin(top_tiendas)]\n",
    "    return top_25\n",
    "\n",
    "\n",
    "\n",
    "\n",
    "# -------------------------------- Segmentación Clientes --------------------------------\n",
    "segmentos_edad = [(\"Jóvenes adultos\", \"18–24 años\"), (\"Adultos jóvenes\", \"25–34 años\"), (\"Adultos en etapa media\", \"35–44 años\"), (\"Adultos maduros\", \"45–54 años\"), (\"Prejubilados\", \"55–64 años\"), (\"Personas mayores\", \"65+ años\")]\n",
    "segmentos_sociodemo = [(\"Familias con Hijos\", \"Hogares con hijos en edad escolar o adolescentes\"), (\"Familias Jóvenes\", \"Hogares con niños pequeños o en primera infancia\"), (\"Familias sin Hijos\", \"Hogares conformados por parejas adultas sin hijos\"), (\"Personas que viven solas\", \"Hogares compuestos por una persona\"), (\"Retirados\", \"Hogares con personas retiradas\")]\n",
    "segmentos_ahorro = [(\"Sensibles al precio\", \"Clientes que priorizan el ahorro y buscan precios bajos\"), (\"Poco sensible al precio\", \"Clientes con menor preocupación por el precio y el ahorro\"), (\"Propensión a los cupones\", \"Clientes con alta propensión a utilizar cupones de descuento\"), (\"Promocionero\", \"Clientes que suelen aprovechar promociones y ofertas\")]\n",
    "segmentos_local = [(\"Local\", \"Clientes que prefieren productos de origen local o de cercanía\"), (\"No local\", \"Clientes que consumen habitualmente productos importados o no locales\")]\n",
    "segmentos_fidelidad = [(\"Fiel\", \"Realiza compras recurrentes y completas en Eroski\"), (\"Abandono\", \"Ha dejado de comprar en Eroski recientemente\"), (\"Compartido\", \"Distribuye su compra entre Eroski y otros supermercados\"), (\"Esporádico\", \"Compra de manera puntual, sin recurrencia ni cesta completa\")]\n",
    "\n",
    "# -------------------------------- Segmentación Ubicación --------------------------------\n",
    "tipos_tiendas = [\"Hipermercado 10000\", \"Hipermercado 6000\", \"Supermercado de atracción\", \"Supermercado de proximidad\", \"Gasolinera\", \"Autoservicio\"]\n",
    "ubicacion_intratienda = [\"Escaparate\", \"Entrada\", \"Cabecera\", \"Lineal\", \"Isla promocional\", \"Zona caliente\", \"Caja\", \"Zona de impulso\", \"Exterior\", \"Pasillo central\", \"Final de pasillo\", \"Refrigerado\", \"Congelado\", \"Bodega\", \"Zona bebé\"]\n",
    "\n",
    "\n",
    "df_objetivos = pd.DataFrame([\n",
    "    {\n",
    "        \"Objetivo\": \"Generar reconocimiento de marca\",\n",
    "        \"TipoTienda\": tipos_tiendas,\n",
    "        \"SegmentacionUsada\": segmentos_fidelidad,\n",
    "        \"SegmentoTarget\": [\"Fiel\", \"Compartido\"],\n",
    "        \"UbicacionIntraTienda\": [\"Escaparate\", \"Entrada\"],\n",
    "        \"TramoHorario\": \"nulo\",\n",
    "        \"Dia\": \"nulo\"                      # SI ES NULO, LO CALCULO CON LA FUNCION habitual, metienod como parametros los q si tengo.\n",
    "    },\n",
    "    {\n",
    "        \"Objetivo\": \"Lanzamiento de nuevos productos\",\n",
    "        \"TipoTienda\": [\"Supermercado\", \"Gasolinera\"],\n",
    "        \"SegmentacionUsada\": segmentos_edad,             # por ejemplo, \n",
    "        \"SegmentoTarget\": [\"Jóvenes Adultos\", \"Adultos jóvenes\"],\n",
    "        \"UbicacionIntraTienda\": ,\n",
    "        \"TramoHorario\": [\"11–14\", \"17–21\"],\n",
    "        \"Dia\": [\"Lunes\", \"Martes\", \"Miércoles\"]\n",
    "    },\n",
    "    {\n",
    "        \"Objetivo\": \"Penetración en nuevos clientes\",\n",
    "        \"TipoTienda\": [\"Gasolinera\", \"Supermercado\"],\n",
    "        \"SegmentacionUsada\": [\"fidelidad\", \"edad\"],\n",
    "        \"SegmentoTarget\": [\"Esporádico\", \"18–24 años\"],\n",
    "        \"UbicacionIntraTienda\": [\"Caja\", \"Zona caliente\"],\n",
    "        \"TramoHorario\": [\"7–11\", \"14–17\"],\n",
    "        \"Dia\": [\"Entre semana\"]\n",
    "    },\n",
    "    {\n",
    "        \"Objetivo\": \"Consideración de producto de cross-sell\",\n",
    "        \"TipoTienda\": [\"Hipermercado\", \"Supermercado\"],\n",
    "        \"SegmentacionUsada\": [\"afinidad_ahorro\"],\n",
    "        \"SegmentoTarget\": [\"Promocionero\", \"Propensión a los cupones\"],\n",
    "        \"UbicacionIntraTienda\": [\"Lineal\", \"Punto de impulso\"],\n",
    "        \"TramoHorario\": [\"11–14\", \"17–21\"],\n",
    "        \"Dia\": [\"Jueves\", \"Viernes\"]\n",
    "    },\n",
    "    {\n",
    "        \"Objetivo\": \"Reforzar la relación con clientes\",\n",
    "        \"TipoTienda\": [\"Hipermercado\"],\n",
    "        \"SegmentacionUsada\": [\"fidelidad\"],\n",
    "        \"SegmentoTarget\": [\"Fiel\", \"Compartido\"],\n",
    "        \"UbicacionIntraTienda\": [\"Zona caliente\", \"Lineal\"],\n",
    "        \"TramoHorario\": [\"14–17\", \"17–21\"],\n",
    "        \"Dia\": [\"Fin de semana\"]\n",
    "    },\n",
    "    {\n",
    "        \"Objetivo\": \"Momentos de consumo\",\n",
    "        \"TipoTienda\": [\"Supermercado\", \"Gasolinera\"],\n",
    "        \"SegmentacionUsada\": [\"edad\", \"sociodemo\"],\n",
    "        \"SegmentoTarget\": [\"35–44 años\", \"Familias sin Hijos\"],\n",
    "        \"UbicacionIntraTienda\": [\"Punto de impulso\"],\n",
    "        \"TramoHorario\": [\"7–11\", \"14–17\"],\n",
    "        \"Dia\": [\"Todos\"]\n",
    "    },\n",
    "    {\n",
    "        \"Objetivo\": \"Alcanzar cuota en tiendas infracuota\",\n",
    "        \"TipoTienda\": [\"Supermercado\"],\n",
    "        \"SegmentacionUsada\": [\"local\"],\n",
    "        \"SegmentoTarget\": [\"No local\"],\n",
    "        \"UbicacionIntraTienda\": [\"Exterior\", \"Escaparate\"],\n",
    "        \"TramoHorario\": [\"Todo el día\"],\n",
    "        \"Dia\": [\"Entre semana\"]\n",
    "    },\n",
    "    {\n",
    "        \"Objetivo\": \"Refuerzo promocional\",\n",
    "        \"TipoTienda\": [\"Hipermercado\", \"Supermercado\"],\n",
    "        \"SegmentacionUsada\": [\"afinidad_ahorro\"],\n",
    "        \"SegmentoTarget\": [\"Sensibles al precio\"],\n",
    "        \"UbicacionIntraTienda\": [\"Cabecera\", \"Caja\"],\n",
    "        \"TramoHorario\": [\"11–14\", \"17–21\"],\n",
    "        \"Dia\": [\"Miércoles\", \"Viernes\"]\n",
    "    },\n",
    "    {\n",
    "        \"Objetivo\": \"Impulso en caja\",\n",
    "        \"TipoTienda\": [\"Gasolinera\", \"Supermercado\"],\n",
    "        \"SegmentacionUsada\": [\"sociodemo\", \"fidelidad\"],\n",
    "        \"SegmentoTarget\": [\"Personas que viven solas\", \"Esporádico\"],\n",
    "        \"UbicacionIntraTienda\": [\"Caja\"],\n",
    "        \"TramoHorario\": [\"7–11\", \"14–17\", \"17–21\"],\n",
    "        \"Dia\": [\"Todos\"]\n",
    "    }\n",
    "])\n",
    "\n",
    "\n",
    "# -------------------------------- Funciones necesarias --------------------------------\n",
    "for i in num_campanias:\n",
    "    brief_campania_{sheet_name} = pd.read_excel(\"Brief Marcas.xlsx\", header = 0, sheet_name=i)\n",
    "\n",
    "\n",
    "def limpiar_brief(objetivo,marca):\n",
    "    if marca == \"\"\n",
    "        brief_limpio = get.info.brief()    \n",
    "    variables_null = brief_limpio.is_null() # array de variables a rellenar cuando la marca no las ha especificado. Estas variables se especifican \n",
    "    # si la variable es null, entonces la saco de un diccionario \n",
    "    # brief_limpio debe incluir\n",
    "    return brief_limpio\n",
    "\n",
    "def calcular_presencia(segmentacion):\n",
    "    df = df.groupby([\"Segmentacion\"])[\"Ticket Id\"].nunique()\n",
    "\n",
    "    return # Devolver Tipo de tienda, tramo horario y dia de la semana\n",
    "\n",
    "\n",
    "\n",
    "# -------------------------------- Generación del df combs --------------------------------\n",
    "tramos_horarios = [(\"6.00-8.59\", \"Mañana\"), \"9.00-11.59\", \"12.00-13.59\", \"14.00-16.59\", \"17.00-18.59\", \"19.00-20.59\", \"21.00-23.59\"]\n",
    "pantallas_tienda_inc = [(CodigoCategoria//CodigoPantalla , CodigoLocalizacion_Inc, TipoTienda)] # Explicacion: CodigoLocalizacion de tiendas con cont promocional + respectivo id.//Codigo categoria. Si va a nivel pasillo o a nivel pantalla\n",
    "pantallas_tienda_act = [(CodigoCategoria//CodigoPantalla , CodigoLocalizacion_Act, TipoTienda)] # Explicacion: CodigoLocalizacion de tiendas con cont promocional + respectivo id.//Codigo categoria. Si va a nivel pasillo o a nivel pantalla\n",
    "num_dias_pantallas = 1000\n",
    "dia_inicio = dt.date(2025, 8, 5)  # ejemplo: martes 5 de agosto de 2025\n",
    "num_dias_pantallas = 5  # ejemplo\n",
    "nombres_dias = [\"Lunes\", \"Martes\", \"Miércoles\", \"Jueves\", \"Viernes\", \"Sábado\", \"Domingo\"]\n",
    "dias_promo = [(dia_inicio + dt.timedelta(days=i), nombres_dias[(dia_inicio.weekday() + i) % 7]) for i in range(num_dias_pantallas)]\n",
    "\n",
    "combs = # hacer una combinación de cada uno. \n",
    "\n",
    "\n",
    "\n",
    "\n",
    "\n"
   ]
  },
  {
   "cell_type": "code",
   "execution_count": null,
   "id": "8851d76d",
   "metadata": {},
   "outputs": [],
   "source": []
  },
  {
   "cell_type": "code",
   "execution_count": null,
   "id": "4f0ad444",
   "metadata": {},
   "outputs": [],
   "source": [
    "for marca in df_marcas[\"Marca\"].unique():\n",
    "    for contenido in df_marcas[Marca == marca][\"Contenido\"].unique() # para cada contenido de esa marca en especifico. \n",
    "        comb_0 = combs.copy()\n",
    "        requisitos_marca = brief_limpio[\"Marca\"].values() # brief_limpio es un diccionario// data frame donde se especifica la info de asignacion para cada marca\n",
    "        comb_0 = comb_0[comb_0[\"TipoTienda\"].is_in(requisitos_marca[\"TipoTienda\"])] # filtrado por tipo de tienda \n",
    "        comb"
   ]
  },
  {
   "cell_type": "code",
   "execution_count": null,
   "id": "b46e36c8",
   "metadata": {},
   "outputs": [],
   "source": [
    "# Calcular diferentes combinaciones, e ir jugando con lo que decia Isabel\n"
   ]
  }
 ],
 "metadata": {
  "kernelspec": {
   "display_name": "Python 3",
   "language": "python",
   "name": "python3"
  },
  "language_info": {
   "codemirror_mode": {
    "name": "ipython",
    "version": 3
   },
   "file_extension": ".py",
   "mimetype": "text/x-python",
   "name": "python",
   "nbconvert_exporter": "python",
   "pygments_lexer": "ipython3",
   "version": "3.13.1"
  }
 },
 "nbformat": 4,
 "nbformat_minor": 5
}
